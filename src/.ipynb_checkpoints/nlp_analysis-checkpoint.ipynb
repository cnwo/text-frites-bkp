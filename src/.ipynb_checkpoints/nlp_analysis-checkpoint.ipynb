{
 "cells": [
  {
   "cell_type": "markdown",
   "metadata": {},
   "source": [
    "# From raw text to understanding."
   ]
  },
  {
   "cell_type": "markdown",
   "metadata": {},
   "source": [
    "This code is showcase of the diverse *natural language processing* techniques one can use to :\n",
    "- automatically classify sentences depending on the sentiment or category\n",
    "- extract representation of words and sentences to understand text\n",
    "- etc."
   ]
  },
  {
   "cell_type": "markdown",
   "metadata": {},
   "source": [
    "## 0. loading packages"
   ]
  },
  {
   "cell_type": "code",
   "execution_count": 101,
   "metadata": {},
   "outputs": [],
   "source": [
    "import os, sys\n",
    "import codecs\n",
    "import gensim\n",
    "import pickle\n",
    "import nltk\n",
    "import string\n",
    "import random\n",
    "import sqlite3\n",
    "import time\n",
    "import pandas as pd\n",
    "import numpy as np\n",
    "import tqdm\n",
    "import matplotlib.pyplot as plt\n",
    "%matplotlib inline"
   ]
  },
  {
   "cell_type": "code",
   "execution_count": 88,
   "metadata": {},
   "outputs": [],
   "source": [
    "'''Reproducibility settings'''\n",
    "random.seed(100)"
   ]
  },
  {
   "cell_type": "markdown",
   "metadata": {},
   "source": [
    "## 1. loading and quick inspection of data"
   ]
  },
  {
   "cell_type": "markdown",
   "metadata": {},
   "source": [
    "We start here by loading our dataset stored in a sqlite database and inspect very quickly. We also load the config path where we will store any (hyper-)parameters or parameters we will be willing to use later in our code."
   ]
  },
  {
   "cell_type": "code",
   "execution_count": 7,
   "metadata": {},
   "outputs": [],
   "source": [
    "data_path = '../data'\n",
    "config_path = '../config'"
   ]
  },
  {
   "cell_type": "markdown",
   "metadata": {},
   "source": [
    "### 👉 quick description"
   ]
  },
  {
   "cell_type": "markdown",
   "metadata": {},
   "source": [
    "This dataset consists of reviews of fine foods from amazon. The data span a period of more than 10 years, including all ~500,000 reviews up to October 2012. Reviews include product and user information, ratings, and a plaintext review. We also have reviews from all other Amazon categories. As a reminder it can be found [here](https://www.kaggle.com/snap/amazon-fine-food-reviews) on kaggle or [here](http://snap.stanford.edu/data/web-FineFoods.html) on SNAP (original source).\n",
    "\n",
    "This dataset consists of a single table, **Reviews**."
   ]
  },
  {
   "cell_type": "code",
   "execution_count": 262,
   "metadata": {},
   "outputs": [],
   "source": [
    "con = sqlite3.connect(os.path.join(data_path, 'database.sqlite'))\n",
    "cursor = con.cursor()"
   ]
  },
  {
   "cell_type": "code",
   "execution_count": 265,
   "metadata": {},
   "outputs": [
    {
     "name": "stdout",
     "output_type": "stream",
     "text": [
      "CPU times: user 3.07 s, sys: 835 ms, total: 3.9 s\n",
      "Wall time: 4.45 s\n"
     ]
    }
   ],
   "source": [
    "%time table = pd.read_sql_query(\"SELECT * FROM Reviews;\", con)"
   ]
  },
  {
   "cell_type": "code",
   "execution_count": 266,
   "metadata": {},
   "outputs": [
    {
     "data": {
      "text/html": [
       "<div>\n",
       "<style scoped>\n",
       "    .dataframe tbody tr th:only-of-type {\n",
       "        vertical-align: middle;\n",
       "    }\n",
       "\n",
       "    .dataframe tbody tr th {\n",
       "        vertical-align: top;\n",
       "    }\n",
       "\n",
       "    .dataframe thead th {\n",
       "        text-align: right;\n",
       "    }\n",
       "</style>\n",
       "<table border=\"1\" class=\"dataframe\">\n",
       "  <thead>\n",
       "    <tr style=\"text-align: right;\">\n",
       "      <th></th>\n",
       "      <th>Id</th>\n",
       "      <th>ProductId</th>\n",
       "      <th>UserId</th>\n",
       "      <th>ProfileName</th>\n",
       "      <th>HelpfulnessNumerator</th>\n",
       "      <th>HelpfulnessDenominator</th>\n",
       "      <th>Score</th>\n",
       "      <th>Time</th>\n",
       "      <th>Summary</th>\n",
       "      <th>Text</th>\n",
       "    </tr>\n",
       "  </thead>\n",
       "  <tbody>\n",
       "    <tr>\n",
       "      <th>0</th>\n",
       "      <td>1</td>\n",
       "      <td>B001E4KFG0</td>\n",
       "      <td>A3SGXH7AUHU8GW</td>\n",
       "      <td>delmartian</td>\n",
       "      <td>1</td>\n",
       "      <td>1</td>\n",
       "      <td>5</td>\n",
       "      <td>1303862400</td>\n",
       "      <td>Good Quality Dog Food</td>\n",
       "      <td>I have bought several of the Vitality canned d...</td>\n",
       "    </tr>\n",
       "    <tr>\n",
       "      <th>1</th>\n",
       "      <td>2</td>\n",
       "      <td>B00813GRG4</td>\n",
       "      <td>A1D87F6ZCVE5NK</td>\n",
       "      <td>dll pa</td>\n",
       "      <td>0</td>\n",
       "      <td>0</td>\n",
       "      <td>1</td>\n",
       "      <td>1346976000</td>\n",
       "      <td>Not as Advertised</td>\n",
       "      <td>Product arrived labeled as Jumbo Salted Peanut...</td>\n",
       "    </tr>\n",
       "    <tr>\n",
       "      <th>2</th>\n",
       "      <td>3</td>\n",
       "      <td>B000LQOCH0</td>\n",
       "      <td>ABXLMWJIXXAIN</td>\n",
       "      <td>Natalia Corres \"Natalia Corres\"</td>\n",
       "      <td>1</td>\n",
       "      <td>1</td>\n",
       "      <td>4</td>\n",
       "      <td>1219017600</td>\n",
       "      <td>\"Delight\" says it all</td>\n",
       "      <td>This is a confection that has been around a fe...</td>\n",
       "    </tr>\n",
       "    <tr>\n",
       "      <th>3</th>\n",
       "      <td>4</td>\n",
       "      <td>B000UA0QIQ</td>\n",
       "      <td>A395BORC6FGVXV</td>\n",
       "      <td>Karl</td>\n",
       "      <td>3</td>\n",
       "      <td>3</td>\n",
       "      <td>2</td>\n",
       "      <td>1307923200</td>\n",
       "      <td>Cough Medicine</td>\n",
       "      <td>If you are looking for the secret ingredient i...</td>\n",
       "    </tr>\n",
       "    <tr>\n",
       "      <th>4</th>\n",
       "      <td>5</td>\n",
       "      <td>B006K2ZZ7K</td>\n",
       "      <td>A1UQRSCLF8GW1T</td>\n",
       "      <td>Michael D. Bigham \"M. Wassir\"</td>\n",
       "      <td>0</td>\n",
       "      <td>0</td>\n",
       "      <td>5</td>\n",
       "      <td>1350777600</td>\n",
       "      <td>Great taffy</td>\n",
       "      <td>Great taffy at a great price.  There was a wid...</td>\n",
       "    </tr>\n",
       "  </tbody>\n",
       "</table>\n",
       "</div>"
      ],
      "text/plain": [
       "   Id   ProductId          UserId                      ProfileName  \\\n",
       "0   1  B001E4KFG0  A3SGXH7AUHU8GW                       delmartian   \n",
       "1   2  B00813GRG4  A1D87F6ZCVE5NK                           dll pa   \n",
       "2   3  B000LQOCH0   ABXLMWJIXXAIN  Natalia Corres \"Natalia Corres\"   \n",
       "3   4  B000UA0QIQ  A395BORC6FGVXV                             Karl   \n",
       "4   5  B006K2ZZ7K  A1UQRSCLF8GW1T    Michael D. Bigham \"M. Wassir\"   \n",
       "\n",
       "   HelpfulnessNumerator  HelpfulnessDenominator  Score        Time  \\\n",
       "0                     1                       1      5  1303862400   \n",
       "1                     0                       0      1  1346976000   \n",
       "2                     1                       1      4  1219017600   \n",
       "3                     3                       3      2  1307923200   \n",
       "4                     0                       0      5  1350777600   \n",
       "\n",
       "                 Summary                                               Text  \n",
       "0  Good Quality Dog Food  I have bought several of the Vitality canned d...  \n",
       "1      Not as Advertised  Product arrived labeled as Jumbo Salted Peanut...  \n",
       "2  \"Delight\" says it all  This is a confection that has been around a fe...  \n",
       "3         Cough Medicine  If you are looking for the secret ingredient i...  \n",
       "4            Great taffy  Great taffy at a great price.  There was a wid...  "
      ]
     },
     "execution_count": 266,
     "metadata": {},
     "output_type": "execute_result"
    }
   ],
   "source": [
    "table.head()"
   ]
  },
  {
   "cell_type": "markdown",
   "metadata": {},
   "source": [
    "### 👉 perfect showcase"
   ]
  },
  {
   "cell_type": "markdown",
   "metadata": {},
   "source": [
    "The columns in the table are:\n",
    "\n",
    "- `Id`\n",
    "- `ProductId` - unique identifier for the product\n",
    "- `UserId` - unqiue identifier for the user\n",
    "- `ProfileName`\n",
    "- `HelpfulnessNumerator` - number of users who found the review helpful\n",
    "- `HelpfulnessDenominator` - number of users who indicated whether they found the review helpful\n",
    "- `Score` - rating between 1 and 5\n",
    "- `Time` - timestamp for the review\n",
    "- `Summary` - brief summary of the review\n",
    "- `Text` - text of the review\n",
    "\n",
    "\n",
    "This is a perfect example of dataset that a business might be able to gather by sending survey to its customers. We have a `Score` that we can use to create sentiment categories (positive/neutral/negative) and we have a free-text field `Text` where customers can freely enter a review. Data will probably be *messy* and unbalanced (like usual), hence the perfect showcase here."
   ]
  },
  {
   "cell_type": "code",
   "execution_count": 272,
   "metadata": {},
   "outputs": [
    {
     "data": {
      "text/html": [
       "<div>\n",
       "<style scoped>\n",
       "    .dataframe tbody tr th:only-of-type {\n",
       "        vertical-align: middle;\n",
       "    }\n",
       "\n",
       "    .dataframe tbody tr th {\n",
       "        vertical-align: top;\n",
       "    }\n",
       "\n",
       "    .dataframe thead th {\n",
       "        text-align: right;\n",
       "    }\n",
       "</style>\n",
       "<table border=\"1\" class=\"dataframe\">\n",
       "  <thead>\n",
       "    <tr style=\"text-align: right;\">\n",
       "      <th></th>\n",
       "      <th>Id</th>\n",
       "      <th>HelpfulnessNumerator</th>\n",
       "      <th>HelpfulnessDenominator</th>\n",
       "      <th>Score</th>\n",
       "      <th>Time</th>\n",
       "    </tr>\n",
       "  </thead>\n",
       "  <tbody>\n",
       "    <tr>\n",
       "      <th>count</th>\n",
       "      <td>568454.000000</td>\n",
       "      <td>568454.000000</td>\n",
       "      <td>568454.00000</td>\n",
       "      <td>568454.000000</td>\n",
       "      <td>5.684540e+05</td>\n",
       "    </tr>\n",
       "    <tr>\n",
       "      <th>mean</th>\n",
       "      <td>284227.500000</td>\n",
       "      <td>1.743817</td>\n",
       "      <td>2.22881</td>\n",
       "      <td>4.183199</td>\n",
       "      <td>1.296257e+09</td>\n",
       "    </tr>\n",
       "    <tr>\n",
       "      <th>std</th>\n",
       "      <td>164098.679298</td>\n",
       "      <td>7.636513</td>\n",
       "      <td>8.28974</td>\n",
       "      <td>1.310436</td>\n",
       "      <td>4.804331e+07</td>\n",
       "    </tr>\n",
       "    <tr>\n",
       "      <th>min</th>\n",
       "      <td>1.000000</td>\n",
       "      <td>0.000000</td>\n",
       "      <td>0.00000</td>\n",
       "      <td>1.000000</td>\n",
       "      <td>9.393408e+08</td>\n",
       "    </tr>\n",
       "    <tr>\n",
       "      <th>25%</th>\n",
       "      <td>142114.250000</td>\n",
       "      <td>0.000000</td>\n",
       "      <td>0.00000</td>\n",
       "      <td>4.000000</td>\n",
       "      <td>1.271290e+09</td>\n",
       "    </tr>\n",
       "    <tr>\n",
       "      <th>50%</th>\n",
       "      <td>284227.500000</td>\n",
       "      <td>0.000000</td>\n",
       "      <td>1.00000</td>\n",
       "      <td>5.000000</td>\n",
       "      <td>1.311120e+09</td>\n",
       "    </tr>\n",
       "    <tr>\n",
       "      <th>75%</th>\n",
       "      <td>426340.750000</td>\n",
       "      <td>2.000000</td>\n",
       "      <td>2.00000</td>\n",
       "      <td>5.000000</td>\n",
       "      <td>1.332720e+09</td>\n",
       "    </tr>\n",
       "    <tr>\n",
       "      <th>max</th>\n",
       "      <td>568454.000000</td>\n",
       "      <td>866.000000</td>\n",
       "      <td>923.00000</td>\n",
       "      <td>5.000000</td>\n",
       "      <td>1.351210e+09</td>\n",
       "    </tr>\n",
       "  </tbody>\n",
       "</table>\n",
       "</div>"
      ],
      "text/plain": [
       "                  Id  HelpfulnessNumerator  HelpfulnessDenominator  \\\n",
       "count  568454.000000         568454.000000            568454.00000   \n",
       "mean   284227.500000              1.743817                 2.22881   \n",
       "std    164098.679298              7.636513                 8.28974   \n",
       "min         1.000000              0.000000                 0.00000   \n",
       "25%    142114.250000              0.000000                 0.00000   \n",
       "50%    284227.500000              0.000000                 1.00000   \n",
       "75%    426340.750000              2.000000                 2.00000   \n",
       "max    568454.000000            866.000000               923.00000   \n",
       "\n",
       "               Score          Time  \n",
       "count  568454.000000  5.684540e+05  \n",
       "mean        4.183199  1.296257e+09  \n",
       "std         1.310436  4.804331e+07  \n",
       "min         1.000000  9.393408e+08  \n",
       "25%         4.000000  1.271290e+09  \n",
       "50%         5.000000  1.311120e+09  \n",
       "75%         5.000000  1.332720e+09  \n",
       "max         5.000000  1.351210e+09  "
      ]
     },
     "execution_count": 272,
     "metadata": {},
     "output_type": "execute_result"
    }
   ],
   "source": [
    "table.describe()"
   ]
  },
  {
   "cell_type": "code",
   "execution_count": 273,
   "metadata": {},
   "outputs": [
    {
     "data": {
      "image/png": "[encoded data removed]",
      "text/plain": [
       "<matplotlib.figure.Figure at 0x1e470f7198>"
      ]
     },
     "metadata": {},
     "output_type": "display_data"
    }
   ],
   "source": [
    "plt.hist(table.Score)\n",
    "plt.title(\"Histogram of Scores.\")\n",
    "plt.show()"
   ]
  },
  {
   "cell_type": "markdown",
   "metadata": {},
   "source": [
    "### 👉 preparing for sentiment classification"
   ]
  },
  {
   "cell_type": "markdown",
   "metadata": {},
   "source": [
    "We can assume that a score of 4 or greater is *Positive* and that a score lower than 3 strictly is *Negative*. The rest will be *Neutral*"
   ]
  },
  {
   "cell_type": "code",
   "execution_count": 47,
   "metadata": {},
   "outputs": [],
   "source": [
    "def assign_sentiment(score, label=False):\n",
    "    if score > 3:\n",
    "        return \"Positive\" if not label else 1\n",
    "    elif score < 3:\n",
    "        return \"Negative\" if not label else 3\n",
    "    else:\n",
    "        return \"Neutral\" if not label else 2"
   ]
  },
  {
   "cell_type": "code",
   "execution_count": 48,
   "metadata": {},
   "outputs": [],
   "source": [
    "table['Sentiment'] = table.Score.apply(assign_sentiment)\n",
    "table['ClassLabel'] = table.Score.apply(assign_sentiment, label=True)"
   ]
  },
  {
   "cell_type": "code",
   "execution_count": 49,
   "metadata": {},
   "outputs": [
    {
     "data": {
      "text/plain": [
       "Positive    443777\n",
       "Negative     82037\n",
       "Neutral      42640\n",
       "Name: Sentiment, dtype: int64"
      ]
     },
     "execution_count": 49,
     "metadata": {},
     "output_type": "execute_result"
    }
   ],
   "source": [
    "table.Sentiment.value_counts()"
   ]
  },
  {
   "cell_type": "markdown",
   "metadata": {},
   "source": [
    "As predicted, the dataset is completely imbalanced. We will balance it later probably by sub-sampling here but we can also make use of different sampling techniques such as SMOTE (see the [imbalanced-learn](http://contrib.scikit-learn.org/imbalanced-learn/stable/) package for more detailed and this paper on [SMOTE](https://www.jair.org/media/953/live-953-2037-jair.pdf))."
   ]
  },
  {
   "cell_type": "code",
   "execution_count": 50,
   "metadata": {},
   "outputs": [
    {
     "data": {
      "image/png": "[encoded data removed]",
      "text/plain": [
       "<matplotlib.figure.Figure at 0x1a3d150cc0>"
      ]
     },
     "metadata": {},
     "output_type": "display_data"
    }
   ],
   "source": [
    "plt.hist([table.ProductId.value_counts()], bins=np.arange(0,1000,50))\n",
    "plt.show()"
   ]
  },
  {
   "cell_type": "code",
   "execution_count": 53,
   "metadata": {},
   "outputs": [],
   "source": [
    "data = table[['ProductId', 'Score', 'Summary', 'Text', 'Sentiment', 'ClassLabel']]"
   ]
  },
  {
   "cell_type": "code",
   "execution_count": 54,
   "metadata": {},
   "outputs": [
    {
     "data": {
      "text/html": [
       "<div>\n",
       "<style scoped>\n",
       "    .dataframe tbody tr th:only-of-type {\n",
       "        vertical-align: middle;\n",
       "    }\n",
       "\n",
       "    .dataframe tbody tr th {\n",
       "        vertical-align: top;\n",
       "    }\n",
       "\n",
       "    .dataframe thead th {\n",
       "        text-align: right;\n",
       "    }\n",
       "</style>\n",
       "<table border=\"1\" class=\"dataframe\">\n",
       "  <thead>\n",
       "    <tr style=\"text-align: right;\">\n",
       "      <th></th>\n",
       "      <th>ProductId</th>\n",
       "      <th>Score</th>\n",
       "      <th>Summary</th>\n",
       "      <th>Text</th>\n",
       "      <th>Sentiment</th>\n",
       "      <th>ClassLabel</th>\n",
       "    </tr>\n",
       "  </thead>\n",
       "  <tbody>\n",
       "    <tr>\n",
       "      <th>0</th>\n",
       "      <td>B001E4KFG0</td>\n",
       "      <td>5</td>\n",
       "      <td>Good Quality Dog Food</td>\n",
       "      <td>I have bought several of the Vitality canned d...</td>\n",
       "      <td>Positive</td>\n",
       "      <td>1</td>\n",
       "    </tr>\n",
       "    <tr>\n",
       "      <th>1</th>\n",
       "      <td>B00813GRG4</td>\n",
       "      <td>1</td>\n",
       "      <td>Not as Advertised</td>\n",
       "      <td>Product arrived labeled as Jumbo Salted Peanut...</td>\n",
       "      <td>Negative</td>\n",
       "      <td>3</td>\n",
       "    </tr>\n",
       "    <tr>\n",
       "      <th>2</th>\n",
       "      <td>B000LQOCH0</td>\n",
       "      <td>4</td>\n",
       "      <td>\"Delight\" says it all</td>\n",
       "      <td>This is a confection that has been around a fe...</td>\n",
       "      <td>Positive</td>\n",
       "      <td>1</td>\n",
       "    </tr>\n",
       "    <tr>\n",
       "      <th>3</th>\n",
       "      <td>B000UA0QIQ</td>\n",
       "      <td>2</td>\n",
       "      <td>Cough Medicine</td>\n",
       "      <td>If you are looking for the secret ingredient i...</td>\n",
       "      <td>Negative</td>\n",
       "      <td>3</td>\n",
       "    </tr>\n",
       "    <tr>\n",
       "      <th>4</th>\n",
       "      <td>B006K2ZZ7K</td>\n",
       "      <td>5</td>\n",
       "      <td>Great taffy</td>\n",
       "      <td>Great taffy at a great price.  There was a wid...</td>\n",
       "      <td>Positive</td>\n",
       "      <td>1</td>\n",
       "    </tr>\n",
       "  </tbody>\n",
       "</table>\n",
       "</div>"
      ],
      "text/plain": [
       "    ProductId  Score                Summary  \\\n",
       "0  B001E4KFG0      5  Good Quality Dog Food   \n",
       "1  B00813GRG4      1      Not as Advertised   \n",
       "2  B000LQOCH0      4  \"Delight\" says it all   \n",
       "3  B000UA0QIQ      2         Cough Medicine   \n",
       "4  B006K2ZZ7K      5            Great taffy   \n",
       "\n",
       "                                                Text Sentiment  ClassLabel  \n",
       "0  I have bought several of the Vitality canned d...  Positive           1  \n",
       "1  Product arrived labeled as Jumbo Salted Peanut...  Negative           3  \n",
       "2  This is a confection that has been around a fe...  Positive           1  \n",
       "3  If you are looking for the secret ingredient i...  Negative           3  \n",
       "4  Great taffy at a great price.  There was a wid...  Positive           1  "
      ]
     },
     "execution_count": 54,
     "metadata": {},
     "output_type": "execute_result"
    }
   ],
   "source": [
    "data.head()"
   ]
  },
  {
   "cell_type": "markdown",
   "metadata": {},
   "source": [
    "We can now decide to focus only on the relevant columns and dump the rest."
   ]
  },
  {
   "cell_type": "code",
   "execution_count": 59,
   "metadata": {},
   "outputs": [],
   "source": [
    "data.to_csv(os.path.join(data_path, 'data_raw.csv'))"
   ]
  },
  {
   "cell_type": "markdown",
   "metadata": {},
   "source": [
    "## 2. transform the data"
   ]
  },
  {
   "cell_type": "markdown",
   "metadata": {},
   "source": [
    "### 👉 sanitizing the data"
   ]
  },
  {
   "cell_type": "markdown",
   "metadata": {},
   "source": [
    "Now that we have our dataset , we want to make sure our reviews only have characters we want. We remove '#' characters but keep the words after the '#' sign because they might be relevant (eg: #disaster)"
   ]
  },
  {
   "cell_type": "code",
   "execution_count": 58,
   "metadata": {},
   "outputs": [],
   "source": [
    "def sanitize_data(data_path, filename):\n",
    "    input_file = codecs.open(os.path.join(data_path, filename + '.csv'), \"r\", encoding='utf-8', errors='replace')\n",
    "    output_file = open(os.path.join(data_path, filename + '_clean.csv'), \"w\")\n",
    "\n",
    "    def sanitize_characters(raw, clean):    \n",
    "        for line in input_file:\n",
    "            out = line\n",
    "            output_file.write(line)\n",
    "\n",
    "    return sanitize_characters(input_file, output_file)"
   ]
  },
  {
   "cell_type": "code",
   "execution_count": 60,
   "metadata": {},
   "outputs": [],
   "source": [
    "sanitize_data(data_path, 'data_raw')"
   ]
  },
  {
   "cell_type": "markdown",
   "metadata": {},
   "source": [
    "We can now reload the data."
   ]
  },
  {
   "cell_type": "code",
   "execution_count": 274,
   "metadata": {},
   "outputs": [],
   "source": [
    "data = pd.read_csv(open(os.path.join(data_path, 'data_raw_clean.csv'), 'r'), index_col = 'Unnamed: 0', error_bad_lines=False, engine='c')"
   ]
  },
  {
   "cell_type": "code",
   "execution_count": 275,
   "metadata": {},
   "outputs": [
    {
     "data": {
      "text/html": [
       "<div>\n",
       "<style scoped>\n",
       "    .dataframe tbody tr th:only-of-type {\n",
       "        vertical-align: middle;\n",
       "    }\n",
       "\n",
       "    .dataframe tbody tr th {\n",
       "        vertical-align: top;\n",
       "    }\n",
       "\n",
       "    .dataframe thead th {\n",
       "        text-align: right;\n",
       "    }\n",
       "</style>\n",
       "<table border=\"1\" class=\"dataframe\">\n",
       "  <thead>\n",
       "    <tr style=\"text-align: right;\">\n",
       "      <th></th>\n",
       "      <th>ProductId</th>\n",
       "      <th>Score</th>\n",
       "      <th>Summary</th>\n",
       "      <th>Text</th>\n",
       "      <th>Sentiment</th>\n",
       "      <th>ClassLabel</th>\n",
       "    </tr>\n",
       "  </thead>\n",
       "  <tbody>\n",
       "    <tr>\n",
       "      <th>0</th>\n",
       "      <td>B001E4KFG0</td>\n",
       "      <td>5</td>\n",
       "      <td>Good Quality Dog Food</td>\n",
       "      <td>I have bought several of the Vitality canned d...</td>\n",
       "      <td>Positive</td>\n",
       "      <td>1</td>\n",
       "    </tr>\n",
       "    <tr>\n",
       "      <th>1</th>\n",
       "      <td>B00813GRG4</td>\n",
       "      <td>1</td>\n",
       "      <td>Not as Advertised</td>\n",
       "      <td>Product arrived labeled as Jumbo Salted Peanut...</td>\n",
       "      <td>Negative</td>\n",
       "      <td>3</td>\n",
       "    </tr>\n",
       "    <tr>\n",
       "      <th>2</th>\n",
       "      <td>B000LQOCH0</td>\n",
       "      <td>4</td>\n",
       "      <td>\"Delight\" says it all</td>\n",
       "      <td>This is a confection that has been around a fe...</td>\n",
       "      <td>Positive</td>\n",
       "      <td>1</td>\n",
       "    </tr>\n",
       "    <tr>\n",
       "      <th>3</th>\n",
       "      <td>B000UA0QIQ</td>\n",
       "      <td>2</td>\n",
       "      <td>Cough Medicine</td>\n",
       "      <td>If you are looking for the secret ingredient i...</td>\n",
       "      <td>Negative</td>\n",
       "      <td>3</td>\n",
       "    </tr>\n",
       "    <tr>\n",
       "      <th>4</th>\n",
       "      <td>B006K2ZZ7K</td>\n",
       "      <td>5</td>\n",
       "      <td>Great taffy</td>\n",
       "      <td>Great taffy at a great price.  There was a wid...</td>\n",
       "      <td>Positive</td>\n",
       "      <td>1</td>\n",
       "    </tr>\n",
       "  </tbody>\n",
       "</table>\n",
       "</div>"
      ],
      "text/plain": [
       "    ProductId  Score                Summary  \\\n",
       "0  B001E4KFG0      5  Good Quality Dog Food   \n",
       "1  B00813GRG4      1      Not as Advertised   \n",
       "2  B000LQOCH0      4  \"Delight\" says it all   \n",
       "3  B000UA0QIQ      2         Cough Medicine   \n",
       "4  B006K2ZZ7K      5            Great taffy   \n",
       "\n",
       "                                                Text Sentiment  ClassLabel  \n",
       "0  I have bought several of the Vitality canned d...  Positive           1  \n",
       "1  Product arrived labeled as Jumbo Salted Peanut...  Negative           3  \n",
       "2  This is a confection that has been around a fe...  Positive           1  \n",
       "3  If you are looking for the secret ingredient i...  Negative           3  \n",
       "4  Great taffy at a great price.  There was a wid...  Positive           1  "
      ]
     },
     "execution_count": 275,
     "metadata": {},
     "output_type": "execute_result"
    }
   ],
   "source": [
    "data.head()"
   ]
  },
  {
   "cell_type": "markdown",
   "metadata": {},
   "source": [
    "### 👉 cleaning the data"
   ]
  },
  {
   "cell_type": "markdown",
   "metadata": {},
   "source": [
    "Like we often say, \"garbage in, garbage out\". This is very true in the data science field when it comes to using machine learning or any techniques to play with data. In order to clean the data, we will here using several techniques to come up with a *cleaner* text.\n",
    "\n",
    "Let's grab only 3 sentences to explain the pipeline."
   ]
  },
  {
   "cell_type": "code",
   "execution_count": 285,
   "metadata": {},
   "outputs": [
    {
     "data": {
      "text/plain": [
       "['Halloween is over but, I sent a bag to my daughters class for her share. The chocolate was fresh and enjoyed by many.',\n",
       " 'Watch your prices with this.  While the assortment was good, and I did get this on a gold box purchase, the price for this was<br />$3-4 less at Target.',\n",
       " 'This bag of candy online is pretty expensive, it should be cheaper in order to compete with grocery stores, other than that, its a good combination of my favorite candy',\n",
       " 'Arrived in 6 days and were so stale i could not eat any of the 6 bags!!']"
      ]
     },
     "execution_count": 285,
     "metadata": {},
     "output_type": "execute_result"
    }
   ],
   "source": [
    "text_test = data.Text.loc[59:62].tolist()\n",
    "text_test"
   ]
  },
  {
   "cell_type": "markdown",
   "metadata": {},
   "source": [
    "\n",
    "- We first want to compress punctuation characters to be able later on to split our text by sentences. "
   ]
  },
  {
   "cell_type": "code",
   "execution_count": 313,
   "metadata": {},
   "outputs": [],
   "source": [
    "import re\n",
    "\n",
    "# compress characters\n",
    "def compress_characters(text):\n",
    "    return re.sub(r\"([\" + re.escape(string.punctuation) + r\"])\\1+\", r\"\\1\", text)"
   ]
  },
  {
   "cell_type": "code",
   "execution_count": 314,
   "metadata": {},
   "outputs": [
    {
     "data": {
      "text/plain": [
       "['Halloween is over but, I sent a bag to my daughters class for her share. The chocolate was fresh and enjoyed by many.',\n",
       " 'Watch your prices with this.  While the assortment was good, and I did get this on a gold box purchase, the price for this was<br />$3-4 less at Target.',\n",
       " 'This bag of candy online is pretty expensive, it should be cheaper in order to compete with grocery stores, other than that, its a good combination of my favorite candy',\n",
       " 'Arrived in 6 days and were so stale i could not eat any of the 6 bags!']"
      ]
     },
     "execution_count": 314,
     "metadata": {},
     "output_type": "execute_result"
    }
   ],
   "source": [
    "pipeline_test = [compress_characters(x) for x in text_test]\n",
    "pipeline_test"
   ]
  },
  {
   "cell_type": "markdown",
   "metadata": {},
   "source": [
    "- We can now move onto the removal of special characters and on the standardization of our free-text data."
   ]
  },
  {
   "cell_type": "code",
   "execution_count": 315,
   "metadata": {},
   "outputs": [],
   "source": [
    "def standardize_text(text):\n",
    "    text = text.replace(r\"http\\S+\", \"\")\n",
    "    text = text.replace(r\"http\", \"\")\n",
    "    text = text.replace(r\"@\\S+\", \"\")\n",
    "    text = text.replace(\"\\\\\", \"\")\n",
    "    text = text.replace(\"/\", \"\")\n",
    "    text = text.replace(r\"[^A-Za-z0-9(),*!?@\\'\\`\\\"\\_\\n]\", \" \")\n",
    "    text = text.replace(r\"@\", \"at\")\n",
    "    text = text.lower()\n",
    "    return text"
   ]
  },
  {
   "cell_type": "code",
   "execution_count": 316,
   "metadata": {},
   "outputs": [
    {
     "data": {
      "text/plain": [
       "['halloween is over but, i sent a bag to my daughters class for her share. the chocolate was fresh and enjoyed by many.',\n",
       " 'watch your prices with this.  while the assortment was good, and i did get this on a gold box purchase, the price for this was<br >$3-4 less at target.',\n",
       " 'this bag of candy online is pretty expensive, it should be cheaper in order to compete with grocery stores, other than that, its a good combination of my favorite candy',\n",
       " 'arrived in 6 days and were so stale i could not eat any of the 6 bags!']"
      ]
     },
     "execution_count": 316,
     "metadata": {},
     "output_type": "execute_result"
    }
   ],
   "source": [
    "pipeline_test = [standardize_text(x) for x in pipeline_test]\n",
    "pipeline_test"
   ]
  },
  {
   "cell_type": "markdown",
   "metadata": {},
   "source": [
    "- We still have many weid characters but the data is getting cleaner. It is now time to split our comments in separate sentences and then tokenize our sentences to a list of separate words."
   ]
  },
  {
   "cell_type": "code",
   "execution_count": 317,
   "metadata": {},
   "outputs": [
    {
     "data": {
      "text/plain": [
       "[['halloween is over but, i sent a bag to my daughters class for her share.',\n",
       "  'the chocolate was fresh and enjoyed by many.'],\n",
       " ['watch your prices with this.',\n",
       "  'while the assortment was good, and i did get this on a gold box purchase, the price for this was<br >$3-4 less at target.'],\n",
       " ['this bag of candy online is pretty expensive, it should be cheaper in order to compete with grocery stores, other than that, its a good combination of my favorite candy'],\n",
       " ['arrived in 6 days and were so stale i could not eat any of the 6 bags!']]"
      ]
     },
     "execution_count": 317,
     "metadata": {},
     "output_type": "execute_result"
    }
   ],
   "source": [
    "from nltk import sent_tokenize\n",
    "\n",
    "pipeline_test = [sent_tokenize(x) for x in pipeline_test]\n",
    "pipeline_test"
   ]
  },
  {
   "cell_type": "code",
   "execution_count": 318,
   "metadata": {},
   "outputs": [],
   "source": [
    "from nltk.tokenize import RegexpTokenizer\n",
    "\n",
    "# tokrenize sentences\n",
    "def tokenize(comment):\n",
    "    tokenizer = RegexpTokenizer(r'\\w+')\n",
    "    try:\n",
    "        tokens = tokenizer.tokenize(comment)\n",
    "        return tokens\n",
    "    except:\n",
    "        return 'NC'"
   ]
  },
  {
   "cell_type": "code",
   "execution_count": 319,
   "metadata": {},
   "outputs": [],
   "source": [
    "pipeline_test = [[tokenize(x) for x in text] for text in pipeline_test]"
   ]
  },
  {
   "cell_type": "code",
   "execution_count": 320,
   "metadata": {},
   "outputs": [
    {
     "name": "stdout",
     "output_type": "stream",
     "text": [
      "[['halloween', 'is', 'over', 'but', 'i', 'sent', 'a', 'bag', 'to', 'my', 'daughters', 'class', 'for', 'her', 'share'], ['the', 'chocolate', 'was', 'fresh', 'and', 'enjoyed', 'by', 'many']]\n",
      "[['watch', 'your', 'prices', 'with', 'this'], ['while', 'the', 'assortment', 'was', 'good', 'and', 'i', 'did', 'get', 'this', 'on', 'a', 'gold', 'box', 'purchase', 'the', 'price', 'for', 'this', 'was', 'br', '3', '4', 'less', 'at', 'target']]\n",
      "[['this', 'bag', 'of', 'candy', 'online', 'is', 'pretty', 'expensive', 'it', 'should', 'be', 'cheaper', 'in', 'order', 'to', 'compete', 'with', 'grocery', 'stores', 'other', 'than', 'that', 'its', 'a', 'good', 'combination', 'of', 'my', 'favorite', 'candy']]\n",
      "[['arrived', 'in', '6', 'days', 'and', 'were', 'so', 'stale', 'i', 'could', 'not', 'eat', 'any', 'of', 'the', '6', 'bags']]\n"
     ]
    },
    {
     "data": {
      "text/plain": [
       "[None, None, None, None]"
      ]
     },
     "execution_count": 320,
     "metadata": {},
     "output_type": "execute_result"
    }
   ],
   "source": [
    "_ = [print(x) for x in pipeline_test]"
   ]
  },
  {
   "cell_type": "markdown",
   "metadata": {},
   "source": [
    "- Good. Additional cleaning can be done by removing stop words and other miscellaneous characters."
   ]
  },
  {
   "cell_type": "code",
   "execution_count": 322,
   "metadata": {},
   "outputs": [],
   "source": [
    "from nltk.corpus import stopwords\n",
    "stop_words = stopwords.words('english')\n",
    "\n",
    "def clean_tokens(token_list, stop_words):\n",
    "    filtered_tokens = token_list\n",
    "    filtered_tokens = [word for word in token_list if word not in stop_words]\n",
    "    filtered_tokens = [''.join(c for c in s if c not in string.punctuation) for s in filtered_tokens]\n",
    "    filtered_tokens = [s for s in filtered_tokens if s]\n",
    "    return filtered_tokens"
   ]
  },
  {
   "cell_type": "code",
   "execution_count": 323,
   "metadata": {},
   "outputs": [],
   "source": [
    "pipeline_test = [[clean_tokens(x, stop_words) for x in text] for text in pipeline_test]"
   ]
  },
  {
   "cell_type": "code",
   "execution_count": 331,
   "metadata": {},
   "outputs": [
    {
     "name": "stdout",
     "output_type": "stream",
     "text": [
      "[['halloween', 'send', 'bag', 'daughter', 'class', 'share'], ['chocolate', 'fresh', 'enjoy', 'many']]\n",
      "[['watch', 'price'], ['assortment', 'good', 'get', 'gold', 'box', 'purchase', 'price', 'br', '3', '4', 'le', 'target']]\n",
      "[['bag', 'candy', 'online', 'pretty', 'expensive', 'cheap', 'order', 'compete', 'grocery', 'store', 'good', 'combination', 'favorite', 'candy']]\n",
      "[['arrive', '6', 'days', 'stale', 'eat', '6', 'bag']]\n"
     ]
    }
   ],
   "source": [
    "_ = [print(x) for x in pipeline_test]"
   ]
  },
  {
   "cell_type": "markdown",
   "metadata": {},
   "source": [
    "- We could stop here but we will take it a bit further. You can notice that at this point `enjoy` and `enjoyed` won't be represented by the same word. However, at some point later in this notebook, we might want to consider them as having exactly the same meaning. For this purpose, we will lemmatize our tokens as following :"
   ]
  },
  {
   "cell_type": "code",
   "execution_count": 327,
   "metadata": {},
   "outputs": [
    {
     "name": "stdout",
     "output_type": "stream",
     "text": [
      "[nltk_data] Error loading wordnet: <urlopen error [Errno 8] nodename\n",
      "[nltk_data]     nor servname provided, or not known>\n"
     ]
    }
   ],
   "source": [
    "from nltk.stem.wordnet import WordNetLemmatizer\n",
    "from nltk.corpus import wordnet\n",
    "nltk.download('wordnet')\n",
    "\n",
    "# lemmatize words\n",
    "def lemmatize_tokens(token_list):\n",
    "    token_lemmatized = [WordNetLemmatizer().lemmatize(word,'v') for word in token_list]\n",
    "    token_processed = [wordnet.morphy(word) for word in token_lemmatized]\n",
    "    token_processed_final = [word for word in token_processed if word is not None]\n",
    "    return token_processed_final"
   ]
  },
  {
   "cell_type": "code",
   "execution_count": null,
   "metadata": {},
   "outputs": [],
   "source": [
    "pipeline_test = [[lemmatize_tokens(x) for x in text] for text in pipeline_test]"
   ]
  },
  {
   "cell_type": "code",
   "execution_count": 332,
   "metadata": {},
   "outputs": [
    {
     "name": "stdout",
     "output_type": "stream",
     "text": [
      "[['halloween', 'send', 'bag', 'daughter', 'class', 'share'], ['chocolate', 'fresh', 'enjoy', 'many']]\n",
      "[['watch', 'price'], ['assortment', 'good', 'get', 'gold', 'box', 'purchase', 'price', 'br', '3', '4', 'le', 'target']]\n",
      "[['bag', 'candy', 'online', 'pretty', 'expensive', 'cheap', 'order', 'compete', 'grocery', 'store', 'good', 'combination', 'favorite', 'candy']]\n",
      "[['arrive', '6', 'days', 'stale', 'eat', '6', 'bag']]\n"
     ]
    }
   ],
   "source": [
    "_ = [print(x) for x in pipeline_test]"
   ]
  },
  {
   "cell_type": "markdown",
   "metadata": {},
   "source": [
    "The token lists look nothing like the initial but we have now several degrees of proceesing that we can use and try for our tasks.\n",
    "\n",
    "We introduce here the `transform_data` function that runs all the tranformations listed above. It then creates 3 new columns:\n",
    "- `tokens` : clean tokens\n",
    "- `tokens_clean` : clean tokens without stopwords\n",
    "- `tokens_lemme` : clean lemmatized tokens without stopwords"
   ]
  },
  {
   "cell_type": "code",
   "execution_count": 333,
   "metadata": {},
   "outputs": [],
   "source": [
    "def transform_data(data, text_field, stop_words):\n",
    "    print('Compressing characters...')\n",
    "    data[text_field] = data[text_field].apply(compress_characters)\n",
    "    print('Standardizing text...')\n",
    "    data[text_field] = data[text_field].apply(standardize_text)\n",
    "    print('Splitting sentences...')\n",
    "    data['list_sentences'] = data[text_field].apply(sent_tokenize)\n",
    "    print('Tokenizing text...')\n",
    "    data['tokens'] = data['list_sentences'].apply(lambda x : [tokenize(text) for text in x])\n",
    "    print('Cleaning tokens...')\n",
    "    data['tokens_clean'] = data['tokens'].apply(lambda x : [clean_tokens(item, stop_words) for item in x if item not in ['NC']])\n",
    "    print('Lemmatizing tokens...')\n",
    "    data['tokens_lemme'] = data['tokens_clean'].apply(lambda x : [lemmatize_tokens(item) for item in x])\n",
    "    return data"
   ]
  },
  {
   "cell_type": "code",
   "execution_count": 334,
   "metadata": {},
   "outputs": [
    {
     "name": "stdout",
     "output_type": "stream",
     "text": [
      "Compressing characters...\n",
      "Standardizing text...\n",
      "Splitting sentences...\n",
      "Tokenizing text...\n",
      "Cleaning tokens...\n",
      "Lemmatizing tokens...\n",
      "CPU times: user 8min 45s, sys: 1min 38s, total: 10min 23s\n",
      "Wall time: 11min 5s\n"
     ]
    }
   ],
   "source": [
    "%time data_clean = transform_data(data, text_field='Text', stop_words=stop_words)"
   ]
  },
  {
   "cell_type": "markdown",
   "metadata": {},
   "source": [
    "If it can be very useful to split tokens by sentences (especially for a classification task), we will simplify our tokens input by flattening our list of tokens :\n",
    "\n",
    "* `tokens_flat`\n",
    "* `tokens_clean_flat`\n",
    "* `tokens_lemme_flat`"
   ]
  },
  {
   "cell_type": "code",
   "execution_count": 335,
   "metadata": {},
   "outputs": [],
   "source": [
    "def flatten_tokens(df, syntaxes):\n",
    "    for i in range(len(syntaxes)):\n",
    "        df['tokens' + syntaxes[i] + '_flat'] = df['tokens' + syntaxes[i]].apply(lambda list_token : [item for sublist in list_token for item in sublist])\n",
    "    return df"
   ]
  },
  {
   "cell_type": "code",
   "execution_count": 336,
   "metadata": {},
   "outputs": [],
   "source": [
    "syntaxes = ['', '_clean', '_lemme']"
   ]
  },
  {
   "cell_type": "code",
   "execution_count": 337,
   "metadata": {},
   "outputs": [
    {
     "name": "stdout",
     "output_type": "stream",
     "text": [
      "CPU times: user 31.4 s, sys: 2min 14s, total: 2min 46s\n",
      "Wall time: 4min 10s\n"
     ]
    }
   ],
   "source": [
    "%time data_clean = flatten_tokens(data_clean, syntaxes)"
   ]
  },
  {
   "cell_type": "code",
   "execution_count": 338,
   "metadata": {},
   "outputs": [
    {
     "data": {
      "text/html": [
       "<div>\n",
       "<style scoped>\n",
       "    .dataframe tbody tr th:only-of-type {\n",
       "        vertical-align: middle;\n",
       "    }\n",
       "\n",
       "    .dataframe tbody tr th {\n",
       "        vertical-align: top;\n",
       "    }\n",
       "\n",
       "    .dataframe thead th {\n",
       "        text-align: right;\n",
       "    }\n",
       "</style>\n",
       "<table border=\"1\" class=\"dataframe\">\n",
       "  <thead>\n",
       "    <tr style=\"text-align: right;\">\n",
       "      <th></th>\n",
       "      <th>ProductId</th>\n",
       "      <th>Score</th>\n",
       "      <th>Summary</th>\n",
       "      <th>Text</th>\n",
       "      <th>Sentiment</th>\n",
       "      <th>ClassLabel</th>\n",
       "      <th>list_sentences</th>\n",
       "      <th>tokens</th>\n",
       "      <th>tokens_clean</th>\n",
       "      <th>tokens_lemme</th>\n",
       "      <th>tokens_flat</th>\n",
       "      <th>tokens_clean_flat</th>\n",
       "      <th>tokens_lemme_flat</th>\n",
       "    </tr>\n",
       "  </thead>\n",
       "  <tbody>\n",
       "    <tr>\n",
       "      <th>0</th>\n",
       "      <td>B001E4KFG0</td>\n",
       "      <td>5</td>\n",
       "      <td>Good Quality Dog Food</td>\n",
       "      <td>i have bought several of the vitality canned d...</td>\n",
       "      <td>Positive</td>\n",
       "      <td>1</td>\n",
       "      <td>[i have bought several of the vitality canned ...</td>\n",
       "      <td>[[i, have, bought, several, of, the, vitality,...</td>\n",
       "      <td>[[bought, several, vitality, canned, dog, food...</td>\n",
       "      <td>[[buy, several, vitality, can, dog, food, prod...</td>\n",
       "      <td>[i, have, bought, several, of, the, vitality, ...</td>\n",
       "      <td>[bought, several, vitality, canned, dog, food,...</td>\n",
       "      <td>[buy, several, vitality, can, dog, food, produ...</td>\n",
       "    </tr>\n",
       "    <tr>\n",
       "      <th>1</th>\n",
       "      <td>B00813GRG4</td>\n",
       "      <td>1</td>\n",
       "      <td>Not as Advertised</td>\n",
       "      <td>product arrived labeled as jumbo salted peanut...</td>\n",
       "      <td>Negative</td>\n",
       "      <td>3</td>\n",
       "      <td>[product arrived labeled as jumbo salted peanu...</td>\n",
       "      <td>[[product, arrived, labeled, as, jumbo, salted...</td>\n",
       "      <td>[[product, arrived, labeled, jumbo, salted, pe...</td>\n",
       "      <td>[[product, arrive, label, jumbo, salt, peanuts...</td>\n",
       "      <td>[product, arrived, labeled, as, jumbo, salted,...</td>\n",
       "      <td>[product, arrived, labeled, jumbo, salted, pea...</td>\n",
       "      <td>[product, arrive, label, jumbo, salt, peanuts,...</td>\n",
       "    </tr>\n",
       "    <tr>\n",
       "      <th>2</th>\n",
       "      <td>B000LQOCH0</td>\n",
       "      <td>4</td>\n",
       "      <td>\"Delight\" says it all</td>\n",
       "      <td>this is a confection that has been around a fe...</td>\n",
       "      <td>Positive</td>\n",
       "      <td>1</td>\n",
       "      <td>[this is a confection that has been around a f...</td>\n",
       "      <td>[[this, is, a, confection, that, has, been, ar...</td>\n",
       "      <td>[[confection, around, centuries], [light, pill...</td>\n",
       "      <td>[[confection, around, century], [light, citrus...</td>\n",
       "      <td>[this, is, a, confection, that, has, been, aro...</td>\n",
       "      <td>[confection, around, centuries, light, pillowy...</td>\n",
       "      <td>[confection, around, century, light, citrus, g...</td>\n",
       "    </tr>\n",
       "    <tr>\n",
       "      <th>3</th>\n",
       "      <td>B000UA0QIQ</td>\n",
       "      <td>2</td>\n",
       "      <td>Cough Medicine</td>\n",
       "      <td>if you are looking for the secret ingredient i...</td>\n",
       "      <td>Negative</td>\n",
       "      <td>3</td>\n",
       "      <td>[if you are looking for the secret ingredient ...</td>\n",
       "      <td>[[if, you, are, looking, for, the, secret, ing...</td>\n",
       "      <td>[[looking, secret, ingredient, robitussin, bel...</td>\n",
       "      <td>[[look, secret, ingredient, robitussin, believ...</td>\n",
       "      <td>[if, you, are, looking, for, the, secret, ingr...</td>\n",
       "      <td>[looking, secret, ingredient, robitussin, beli...</td>\n",
       "      <td>[look, secret, ingredient, robitussin, believe...</td>\n",
       "    </tr>\n",
       "    <tr>\n",
       "      <th>4</th>\n",
       "      <td>B006K2ZZ7K</td>\n",
       "      <td>5</td>\n",
       "      <td>Great taffy</td>\n",
       "      <td>great taffy at a great price.  there was a wid...</td>\n",
       "      <td>Positive</td>\n",
       "      <td>1</td>\n",
       "      <td>[great taffy at a great price., there was a wi...</td>\n",
       "      <td>[[great, taffy, at, a, great, price], [there, ...</td>\n",
       "      <td>[[great, taffy, great, price], [wide, assortme...</td>\n",
       "      <td>[[great, taffy, great, price], [wide, assortme...</td>\n",
       "      <td>[great, taffy, at, a, great, price, there, was...</td>\n",
       "      <td>[great, taffy, great, price, wide, assortment,...</td>\n",
       "      <td>[great, taffy, great, price, wide, assortment,...</td>\n",
       "    </tr>\n",
       "  </tbody>\n",
       "</table>\n",
       "</div>"
      ],
      "text/plain": [
       "    ProductId  Score                Summary  \\\n",
       "0  B001E4KFG0      5  Good Quality Dog Food   \n",
       "1  B00813GRG4      1      Not as Advertised   \n",
       "2  B000LQOCH0      4  \"Delight\" says it all   \n",
       "3  B000UA0QIQ      2         Cough Medicine   \n",
       "4  B006K2ZZ7K      5            Great taffy   \n",
       "\n",
       "                                                Text Sentiment  ClassLabel  \\\n",
       "0  i have bought several of the vitality canned d...  Positive           1   \n",
       "1  product arrived labeled as jumbo salted peanut...  Negative           3   \n",
       "2  this is a confection that has been around a fe...  Positive           1   \n",
       "3  if you are looking for the secret ingredient i...  Negative           3   \n",
       "4  great taffy at a great price.  there was a wid...  Positive           1   \n",
       "\n",
       "                                      list_sentences  \\\n",
       "0  [i have bought several of the vitality canned ...   \n",
       "1  [product arrived labeled as jumbo salted peanu...   \n",
       "2  [this is a confection that has been around a f...   \n",
       "3  [if you are looking for the secret ingredient ...   \n",
       "4  [great taffy at a great price., there was a wi...   \n",
       "\n",
       "                                              tokens  \\\n",
       "0  [[i, have, bought, several, of, the, vitality,...   \n",
       "1  [[product, arrived, labeled, as, jumbo, salted...   \n",
       "2  [[this, is, a, confection, that, has, been, ar...   \n",
       "3  [[if, you, are, looking, for, the, secret, ing...   \n",
       "4  [[great, taffy, at, a, great, price], [there, ...   \n",
       "\n",
       "                                        tokens_clean  \\\n",
       "0  [[bought, several, vitality, canned, dog, food...   \n",
       "1  [[product, arrived, labeled, jumbo, salted, pe...   \n",
       "2  [[confection, around, centuries], [light, pill...   \n",
       "3  [[looking, secret, ingredient, robitussin, bel...   \n",
       "4  [[great, taffy, great, price], [wide, assortme...   \n",
       "\n",
       "                                        tokens_lemme  \\\n",
       "0  [[buy, several, vitality, can, dog, food, prod...   \n",
       "1  [[product, arrive, label, jumbo, salt, peanuts...   \n",
       "2  [[confection, around, century], [light, citrus...   \n",
       "3  [[look, secret, ingredient, robitussin, believ...   \n",
       "4  [[great, taffy, great, price], [wide, assortme...   \n",
       "\n",
       "                                         tokens_flat  \\\n",
       "0  [i, have, bought, several, of, the, vitality, ...   \n",
       "1  [product, arrived, labeled, as, jumbo, salted,...   \n",
       "2  [this, is, a, confection, that, has, been, aro...   \n",
       "3  [if, you, are, looking, for, the, secret, ingr...   \n",
       "4  [great, taffy, at, a, great, price, there, was...   \n",
       "\n",
       "                                   tokens_clean_flat  \\\n",
       "0  [bought, several, vitality, canned, dog, food,...   \n",
       "1  [product, arrived, labeled, jumbo, salted, pea...   \n",
       "2  [confection, around, centuries, light, pillowy...   \n",
       "3  [looking, secret, ingredient, robitussin, beli...   \n",
       "4  [great, taffy, great, price, wide, assortment,...   \n",
       "\n",
       "                                   tokens_lemme_flat  \n",
       "0  [buy, several, vitality, can, dog, food, produ...  \n",
       "1  [product, arrive, label, jumbo, salt, peanuts,...  \n",
       "2  [confection, around, century, light, citrus, g...  \n",
       "3  [look, secret, ingredient, robitussin, believe...  \n",
       "4  [great, taffy, great, price, wide, assortment,...  "
      ]
     },
     "execution_count": 338,
     "metadata": {},
     "output_type": "execute_result"
    }
   ],
   "source": [
    "data_clean.head()"
   ]
  },
  {
   "cell_type": "code",
   "execution_count": 339,
   "metadata": {},
   "outputs": [],
   "source": [
    "pos_data = data_clean.query(\"Sentiment=='Positive'\")\n",
    "neu_data = data_clean.query(\"Sentiment=='Neutral'\")\n",
    "neg_data = data_clean.query(\"Sentiment=='Negative'\")"
   ]
  },
  {
   "cell_type": "markdown",
   "metadata": {},
   "source": [
    "## 3. summary statistics"
   ]
  },
  {
   "cell_type": "markdown",
   "metadata": {},
   "source": [
    "Let's look at few statistics on our dataset like the total number of words (vocabulary), the distribution of sentence lengths, etc."
   ]
  },
  {
   "cell_type": "code",
   "execution_count": 345,
   "metadata": {},
   "outputs": [],
   "source": [
    "all_words, all_words_clean, all_words_lemme = [[word for tokens in data_clean['tokens' + syntax + '_flat'] for word in tokens] for syntax in syntaxes]\n",
    "sentence_lengths, sentence_lengths_clean, sentence_lengths_lemme = [[len(tokens) for tokens in data_clean['tokens' + syntax + '_flat']] for syntax in syntaxes]\n",
    "VOCAB, VOCAB_CLEAN, VOCAB_LEMME = [sorted(list(set(all_words))) for all_words in [all_words, all_words_clean, all_words_lemme]] "
   ]
  },
  {
   "cell_type": "code",
   "execution_count": 346,
   "metadata": {},
   "outputs": [
    {
     "name": "stdout",
     "output_type": "stream",
     "text": [
      "47185165 words total for tokens, with a vocabulary size of 136794\n",
      "Max sentence length is 3519\n"
     ]
    }
   ],
   "source": [
    "print(\"%s words total for %s, with a vocabulary size of %s\" % (len(all_words), 'tokens', len(VOCAB)))\n",
    "print(\"Max sentence length is %s\" % max(sentence_lengths))"
   ]
  },
  {
   "cell_type": "code",
   "execution_count": 348,
   "metadata": {},
   "outputs": [
    {
     "name": "stdout",
     "output_type": "stream",
     "text": [
      "23646561 words total for clean tokens, with a vocabulary size of 136457\n",
      "Max sentence length is 2051\n"
     ]
    }
   ],
   "source": [
    "print(\"%s words total for %s, with a vocabulary size of %s\" % (len(all_words_clean), 'clean tokens', len(VOCAB_CLEAN)))\n",
    "print(\"Max sentence length is %s\" % max(sentence_lengths_clean))"
   ]
  },
  {
   "cell_type": "code",
   "execution_count": 349,
   "metadata": {},
   "outputs": [
    {
     "name": "stdout",
     "output_type": "stream",
     "text": [
      "22283059 words total for lemmatized tokens, with a vocabulary size of 27031\n",
      "Max sentence length is 1958\n"
     ]
    }
   ],
   "source": [
    "print(\"%s words total for %s, with a vocabulary size of %s\" % (len(all_words_lemme), 'lemmatized tokens', len(VOCAB_LEMME)))\n",
    "print(\"Max sentence length is %s\" % max(sentence_lengths_lemme))"
   ]
  },
  {
   "cell_type": "markdown",
   "metadata": {},
   "source": [
    "#### vocabulary"
   ]
  },
  {
   "cell_type": "code",
   "execution_count": 358,
   "metadata": {},
   "outputs": [],
   "source": [
    "LABELS = ['tokens' + syntax for syntax in syntaxes]"
   ]
  },
  {
   "cell_type": "code",
   "execution_count": 359,
   "metadata": {},
   "outputs": [
    {
     "data": {
      "image/png": "[encoded data removed]",
      "text/plain": [
       "<matplotlib.figure.Figure at 0x1afb54d6a0>"
      ]
     },
     "metadata": {},
     "output_type": "display_data"
    }
   ],
   "source": [
    "plt.bar(range(3), [len(VOCAB), len(VOCAB_CLEAN), len(VOCAB_LEMME)])\n",
    "plt.xticks(range(3), LABELS)\n",
    "plt.ylabel('Vocabulary size')\n",
    "plt.xlabel('')\n",
    "plt.title('Vocabulary size by degree of processing.')\n",
    "plt.show()"
   ]
  },
  {
   "cell_type": "markdown",
   "metadata": {},
   "source": [
    "#### sentence lengths"
   ]
  },
  {
   "cell_type": "code",
   "execution_count": 361,
   "metadata": {},
   "outputs": [
    {
     "data": {
      "text/plain": [
       "count    568454.000000\n",
       "mean         83.006127\n",
       "std          82.779668\n",
       "min           3.000000\n",
       "25%          34.000000\n",
       "50%          58.000000\n",
       "75%         101.000000\n",
       "max        3519.000000\n",
       "dtype: float64"
      ]
     },
     "execution_count": 361,
     "metadata": {},
     "output_type": "execute_result"
    }
   ],
   "source": [
    "pd.Series(sentence_lengths).describe()"
   ]
  },
  {
   "cell_type": "code",
   "execution_count": 360,
   "metadata": {},
   "outputs": [
    {
     "data": {
      "image/png": "[encoded data removed]",
      "text/plain": [
       "<matplotlib.figure.Figure at 0x1afb5125c0>"
      ]
     },
     "metadata": {},
     "output_type": "display_data"
    }
   ],
   "source": [
    "plt.hist(sentence_lengths, bins=np.arange(0, 500, 50))\n",
    "plt.show()"
   ]
  },
  {
   "cell_type": "code",
   "execution_count": 130,
   "metadata": {},
   "outputs": [],
   "source": [
    "sentence_lengths_pos = [len(tokens) for tokens in pos_data['tokens_flat']]\n",
    "sentence_lengths_neu = [len(tokens) for tokens in neu_data['tokens_flat']]\n",
    "sentence_lengths_neg = [len(tokens) for tokens in neg_data['tokens_flat']]\n",
    "sentence_lengths_all = [sentence_lengths_pos, sentence_lengths_neu, sentence_lengths_neg]"
   ]
  },
  {
   "cell_type": "code",
   "execution_count": 132,
   "metadata": {},
   "outputs": [
    {
     "name": "stdout",
     "output_type": "stream",
     "text": [
      "[79.90117108367491, 99.299999999999997, 91.333313017297073]\n",
      "[55.0, 72.0, 66.0]\n"
     ]
    }
   ],
   "source": [
    "print([np.mean(sen) for sen in sentence_lengths_all])\n",
    "print([np.median(sen) for sen in sentence_lengths_all])"
   ]
  },
  {
   "cell_type": "code",
   "execution_count": 133,
   "metadata": {},
   "outputs": [],
   "source": [
    "def show_plots(data_pts, n_row=1, n_col=3, figsize=(15, 6), title_name='Histogram'):\n",
    "    fig, ax = plt.subplots(n_row, n_col, figsize=figsize)\n",
    "    n_pts = n_row*n_col\n",
    "    data_pts = data_pts[:n_pts]\n",
    "    \n",
    "    for i, data_pt in enumerate(data_pts):\n",
    "        plt.subplot(n_row, n_col, i+1)\n",
    "        plt.hist(data_pt, bins=np.arange(0,500,25))\n",
    "        plt.title(title_name, fontsize=10)\n",
    "        plt.tight_layout(pad=0, h_pad=0, w_pad=0)"
   ]
  },
  {
   "cell_type": "code",
   "execution_count": 135,
   "metadata": {},
   "outputs": [
    {
     "data": {
      "image/png": "[encoded data removed]",
      "text/plain": [
       "<matplotlib.figure.Figure at 0x1b204297b8>"
      ]
     },
     "metadata": {},
     "output_type": "display_data"
    }
   ],
   "source": [
    "show_plots(sentence_lengths_all)"
   ]
  },
  {
   "cell_type": "markdown",
   "metadata": {},
   "source": [
    "## 4. word embeddings"
   ]
  },
  {
   "cell_type": "code",
   "execution_count": 144,
   "metadata": {},
   "outputs": [],
   "source": [
    "EMBEDDING_DIM=300"
   ]
  },
  {
   "cell_type": "markdown",
   "metadata": {},
   "source": [
    "### 4.a. load word2vec (Google)"
   ]
  },
  {
   "cell_type": "code",
   "execution_count": 138,
   "metadata": {},
   "outputs": [],
   "source": [
    "wor2vec_path = os.path.join(data_path, 'word2vec/GoogleNews-vectors-negative300.bin.gz')\n",
    "word2vec = gensim.models.KeyedVectors.load_word2vec_format(wor2vec_path, binary=True)"
   ]
  },
  {
   "cell_type": "markdown",
   "metadata": {},
   "source": [
    "### 4.b. load glove"
   ]
  },
  {
   "cell_type": "code",
   "execution_count": 139,
   "metadata": {},
   "outputs": [],
   "source": [
    "def load_glove(glove_path):\n",
    "    f = open(glove_path,'r')\n",
    "    model = {}\n",
    "    for line in f:\n",
    "        splitLine = line.split()\n",
    "        word = splitLine[0]\n",
    "        embedding = [float(val) for val in splitLine[1:]]\n",
    "        model[word] = embedding\n",
    "    return model"
   ]
  },
  {
   "cell_type": "code",
   "execution_count": 142,
   "metadata": {},
   "outputs": [],
   "source": [
    "glove_path = os.path.join(data_path, 'glove/glove.6B.300d.txt')\n",
    "\n",
    "glove = load_glove(glove_path)"
   ]
  },
  {
   "cell_type": "markdown",
   "metadata": {},
   "source": [
    "### 4.c. load word2vec (custom-made)"
   ]
  },
  {
   "cell_type": "code",
   "execution_count": 143,
   "metadata": {},
   "outputs": [],
   "source": [
    "from gensim.models.word2vec import Word2Vec\n",
    "\n",
    "# train custom-made word2vec\n",
    "def train_word2vec_model(n_dim, min_count, list_sentences, corpus_size, epochs):\n",
    "    vec_model = Word2Vec(size=n_dim, min_count=min_count)\n",
    "    vec_model.build_vocab(list_sentences)\n",
    "    vec_model.train(list_sentences, total_examples=corpus_size, epochs=epochs)\n",
    "    return vec_model"
   ]
  },
  {
   "cell_type": "code",
   "execution_count": 145,
   "metadata": {},
   "outputs": [
    {
     "data": {
      "text/plain": [
       "['tokens_flat', 'tokens_clean_flat', 'tokens_lemme_flat']"
      ]
     },
     "execution_count": 145,
     "metadata": {},
     "output_type": "execute_result"
    }
   ],
   "source": [
    "cols = ['tokens' + syntax + '_flat' for syntax in syntaxes]\n",
    "cols"
   ]
  },
  {
   "cell_type": "code",
   "execution_count": 146,
   "metadata": {},
   "outputs": [],
   "source": [
    "w2v_custom = [train_word2vec_model(n_dim=EMBEDDING_DIM, min_count=10, list_sentences=list(data_clean[col]), corpus_size=len(all_words), epochs=10) for col in cols]"
   ]
  },
  {
   "cell_type": "markdown",
   "metadata": {},
   "source": [
    "### 4.d. benchmark and visualize"
   ]
  },
  {
   "cell_type": "code",
   "execution_count": 179,
   "metadata": {},
   "outputs": [],
   "source": [
    "embeddings_labels = ['w2v', 'amz', 'glv']"
   ]
  },
  {
   "cell_type": "code",
   "execution_count": 180,
   "metadata": {},
   "outputs": [],
   "source": [
    "embedding_dict = {'w2v':word2vec, 'amz':w2v_custom, 'glv':glove}\n",
    "embedding_dict_simple = {'w2v':word2vec, 'amz':w2v_custom[2], 'glv':glove}"
   ]
  },
  {
   "cell_type": "code",
   "execution_count": 203,
   "metadata": {},
   "outputs": [],
   "source": [
    "def get_average_word2vec(tokens_list, w2v, generate_missing=False, k=300):\n",
    "\n",
    "    if len(tokens_list) < 1:\n",
    "        return np.zeros(k)\n",
    "\n",
    "    if generate_missing:\n",
    "        vectorized = [w2v[word] if word in w2v else np.random.rand(k) for word in tokens_list]\n",
    "    else:\n",
    "        vectorized = [w2v[word] if word in w2v else np.zeros(k) for word in tokens_list]\n",
    "\n",
    "    length = len(vectorized)\n",
    "    summed = np.sum(vectorized, axis=0)\n",
    "    averaged = np.divide(summed, length)\n",
    "    \n",
    "    return averaged"
   ]
  },
  {
   "cell_type": "code",
   "execution_count": 204,
   "metadata": {},
   "outputs": [],
   "source": [
    "def average_vectors(vectors, k=300):\n",
    "    length = len(vectors)\n",
    "    if length > 0:\n",
    "        try:\n",
    "            summed = np.sum(vectors, axis=0)\n",
    "            averaged = np.divide(summed, length)\n",
    "        except:\n",
    "            averaged = np.zeros(k)\n",
    "    else:\n",
    "        averaged = np.zeros(k)\n",
    "    return averaged"
   ]
  },
  {
   "cell_type": "code",
   "execution_count": 205,
   "metadata": {},
   "outputs": [],
   "source": [
    "def get_word2vec_embeddings(embedding_representation, list_sentences, flat=False, generate_missing=False):\n",
    "    embeddings = [get_average_word2vec(sublist, embedding_representation, generate_missing=generate_missing) for sublist in list_sentences]\n",
    "    if not flat:\n",
    "        embeddings = average_vectors(embeddings)\n",
    "    return embeddings"
   ]
  },
  {
   "cell_type": "code",
   "execution_count": 206,
   "metadata": {},
   "outputs": [],
   "source": [
    "def add_embedding(df, embedding_representation, output_prefix, flat=False, generate_missing=False):\n",
    "    #df[output_prefix] = df['tokens'].apply(lambda x: get_word2vec_embeddings(embedding_representation, x, flat, generate_missing))\n",
    "    #df[output_prefix + '_clean'] = df['tokens_clean'].apply(lambda x: get_word2vec_embeddings(embedding_representation, x, flat, generate_missing))\n",
    "    df[output_prefix + '_lemme'] = df['tokens_lemme'].apply(lambda x: get_word2vec_embeddings(embedding_representation, x, flat, generate_missing))\n",
    "    return df"
   ]
  },
  {
   "cell_type": "code",
   "execution_count": 207,
   "metadata": {},
   "outputs": [],
   "source": [
    "def add_data_embeddings(df, embedding_dict, flat=False, generate_missing=False):\n",
    "    for key, value in embedding_dict.items():\n",
    "        print(' -- Adding ' + key +  ' embedding -- ')\n",
    "        df = add_embedding(df, value, key)\n",
    "    return df"
   ]
  },
  {
   "cell_type": "code",
   "execution_count": 208,
   "metadata": {},
   "outputs": [
    {
     "name": "stdout",
     "output_type": "stream",
     "text": [
      " -- Adding w2v embedding -- \n",
      " -- Adding amz embedding -- \n",
      " -- Adding glv embedding -- \n"
     ]
    }
   ],
   "source": [
    "data_clean = add_data_embeddings(data_clean, embedding_dict_simple)"
   ]
  },
  {
   "cell_type": "code",
   "execution_count": 247,
   "metadata": {},
   "outputs": [
    {
     "data": {
      "text/plain": [
       "Index(['ProductId', 'Score', 'Summary', 'Text', 'Sentiment', 'ClassLabel',\n",
       "       'list_sentences', 'tokens', 'tokens_clean', 'tokens_lemme',\n",
       "       'tokens_flat', 'tokens_clean_flat', 'tokens_lemme_flat', 'w2v_lemme',\n",
       "       'amz_lemme', 'glv_lemme'],\n",
       "      dtype='object')"
      ]
     },
     "execution_count": 247,
     "metadata": {},
     "output_type": "execute_result"
    }
   ],
   "source": [
    "data_clean.columns"
   ]
  },
  {
   "cell_type": "code",
   "execution_count": 214,
   "metadata": {},
   "outputs": [],
   "source": [
    "embeddings_w2v, embeddings_amz, embeddings_glv = [data_clean[col + '_lemme'].tolist() for col in embeddings_labels]"
   ]
  },
  {
   "cell_type": "code",
   "execution_count": 215,
   "metadata": {},
   "outputs": [],
   "source": [
    "from sklearn.decomposition import PCA, TruncatedSVD\n",
    "from sklearn.manifold import TSNE\n",
    "import matplotlib.patches as mpatches\n",
    "\n",
    "%matplotlib inline\n",
    "from pylab import *"
   ]
  },
  {
   "cell_type": "code",
   "execution_count": 228,
   "metadata": {},
   "outputs": [],
   "source": [
    "def plot_LSA(test_data, test_labels, savepath=\"PCA_demo.csv\", plot=True):\n",
    "    lsa = TruncatedSVD(n_components=2)\n",
    "    lsa.fit(test_data)\n",
    "    lsa_scores = lsa.transform(test_data)\n",
    "    color_mapper = {label:idx for idx,label in enumerate(set(test_labels))}\n",
    "    print(color_mapper)\n",
    "    color_column = [color_mapper[label] for label in test_labels]\n",
    "    colors = ['green','blue', 'red']\n",
    "    if plot:\n",
    "        plt.scatter(lsa_scores[:,0], lsa_scores[:,1], s=8, alpha=.8, c=test_labels, cmap=matplotlib.colors.ListedColormap(colors))\n",
    "        green_patch = mpatches.Patch(color='green', label='Positive')\n",
    "        red_patch = mpatches.Patch(color='red', label='Negative')\n",
    "        blue_patch = mpatches.Patch(color='blue', label='Neutral')\n",
    "        plt.legend(handles=[green_patch, red_patch, blue_patch])"
   ]
  },
  {
   "cell_type": "code",
   "execution_count": 229,
   "metadata": {},
   "outputs": [],
   "source": [
    "x=embeddings_w2v\n",
    "y=data_clean.ClassLabel.tolist()"
   ]
  },
  {
   "cell_type": "code",
   "execution_count": 230,
   "metadata": {},
   "outputs": [
    {
     "name": "stdout",
     "output_type": "stream",
     "text": [
      "{1: 0, 2: 1, 3: 2}\n"
     ]
    },
    {
     "data": {
      "image/png": "[encoded data removed]",
      "text/plain": [
       "<matplotlib.figure.Figure at 0x1e71066320>"
      ]
     },
     "metadata": {},
     "output_type": "display_data"
    }
   ],
   "source": [
    "fig = plt.figure(figsize=(10, 10))          \n",
    "plot_LSA(x, y)\n",
    "plt.show()"
   ]
  },
  {
   "cell_type": "markdown",
   "metadata": {},
   "source": [
    "## 5. balance dataset"
   ]
  },
  {
   "cell_type": "code",
   "execution_count": 231,
   "metadata": {},
   "outputs": [],
   "source": [
    "output_label = 'Sentiment'"
   ]
  },
  {
   "cell_type": "code",
   "execution_count": 232,
   "metadata": {},
   "outputs": [],
   "source": [
    "def balance_dataset(df, output_label, sampling_type):\n",
    "    \n",
    "    unique_outputs = list(set(df[output_label].tolist()))\n",
    "\n",
    "    datasets = [df.loc[df[output_label]==item] for item in unique_outputs]\n",
    "    sizes = [item.shape[0] for item in datasets]\n",
    "    min_size = min(sizes)\n",
    "    max_size = max(sizes)\n",
    "\n",
    "    if sampling_type==\"over\":\n",
    "        result_df = pd.concat([data.sample(max_size, replace=True) for data in datasets])\n",
    "    elif sampling_type==\"down\":\n",
    "        result_df = pd.concat([data.sample(min_size) for data in datasets])\n",
    "        \n",
    "    result_df.reset_index(drop=True, inplace=True)\n",
    "    return result_df"
   ]
  },
  {
   "cell_type": "code",
   "execution_count": 233,
   "metadata": {},
   "outputs": [],
   "source": [
    "balanced_data_clean = balance_dataset(data_clean, output_label, sampling_type=\"down\")"
   ]
  },
  {
   "cell_type": "code",
   "execution_count": 234,
   "metadata": {},
   "outputs": [
    {
     "name": "stdout",
     "output_type": "stream",
     "text": [
      "Balanced dataset shape : (127920, 16)\n"
     ]
    }
   ],
   "source": [
    "print('Balanced dataset shape :', balanced_data_clean.shape)"
   ]
  },
  {
   "cell_type": "code",
   "execution_count": 235,
   "metadata": {},
   "outputs": [
    {
     "data": {
      "text/plain": [
       "Neutral     42640\n",
       "Negative    42640\n",
       "Positive    42640\n",
       "Name: Sentiment, dtype: int64"
      ]
     },
     "execution_count": 235,
     "metadata": {},
     "output_type": "execute_result"
    }
   ],
   "source": [
    "balanced_data_clean.Sentiment.value_counts()"
   ]
  },
  {
   "cell_type": "code",
   "execution_count": null,
   "metadata": {},
   "outputs": [],
   "source": [
    "x=balanced_data_clean\n",
    "y=balanced_data_clean.ClassLabel.tolist()"
   ]
  },
  {
   "cell_type": "code",
   "execution_count": null,
   "metadata": {},
   "outputs": [],
   "source": [
    "balanced_data_clean\n",
    "\n",
    "fig = plt.figure(figsize=(10, 10))          \n",
    "plot_LSA(x, y)\n",
    "plt.show()"
   ]
  },
  {
   "cell_type": "markdown",
   "metadata": {},
   "source": [
    "## 6. Classification tasks"
   ]
  },
  {
   "cell_type": "markdown",
   "metadata": {},
   "source": [
    "**Vectors** : \n",
    "- `X_w2v`\n",
    "- `X_amz`\n",
    "- `X_glv`\n",
    "\n",
    "**Labels** :\n",
    "- `y`"
   ]
  },
  {
   "cell_type": "code",
   "execution_count": 237,
   "metadata": {},
   "outputs": [],
   "source": [
    "X_w2v, X_amz, X_glv = [balanced_data_clean[col + '_lemme'].tolist() for col in embeddings_labels]\n",
    "y = balanced_data_clean.ClassLabel.tolist()"
   ]
  },
  {
   "cell_type": "code",
   "execution_count": 240,
   "metadata": {},
   "outputs": [],
   "source": [
    "from sklearn.model_selection import train_test_split\n",
    "\n",
    "def generate_data(X, y):\n",
    "    X_train, X_test, y_train, y_test = train_test_split(X, y, test_size=0.2, random_state=40)\n",
    "    return X_train, X_test, y_train, y_test"
   ]
  },
  {
   "cell_type": "code",
   "execution_count": 245,
   "metadata": {},
   "outputs": [],
   "source": [
    "X_w2v_train, X_w2v_test, y_train, y_test = generate_data(X_w2v, y)\n",
    "X_amz_train, X_amz_test, _, _ = generate_data(X_amz, y)\n",
    "X_glv_train, X_glv_test, _, _ = generate_data(X_glv, y)"
   ]
  },
  {
   "cell_type": "markdown",
   "metadata": {},
   "source": [
    "### 6.a Starting simple : Logistic Regression and SVM"
   ]
  },
  {
   "cell_type": "code",
   "execution_count": 251,
   "metadata": {},
   "outputs": [
    {
     "name": "stdout",
     "output_type": "stream",
     "text": [
      "CPU times: user 14.1 s, sys: 55.1 s, total: 1min 9s\n",
      "Wall time: 1min 45s\n",
      "CPU times: user 13.9 s, sys: 41.9 s, total: 55.8 s\n",
      "Wall time: 1min 17s\n",
      "CPU times: user 14.1 s, sys: 44.2 s, total: 58.3 s\n",
      "Wall time: 1min 43s\n"
     ]
    }
   ],
   "source": [
    "from sklearn.linear_model import LogisticRegression\n",
    "\n",
    "clf = LogisticRegression(C=30.0, class_weight='balanced', solver='newton-cg', \n",
    "                         multi_class='multinomial', n_jobs=-1, random_state=40)\n",
    "\n",
    "% time clf.fit(X_w2v_train, y_train)\n",
    "y_w2v_predicted = clf.predict(X_w2v_test)\n",
    "\n",
    "% time clf.fit(X_amz_train, y_train)\n",
    "y_amz_predicted = clf.predict(X_amz_test)\n",
    "\n",
    "% time clf.fit(X_glv_train, y_train)\n",
    "y_glv_predicted = clf.predict(X_glv_test)"
   ]
  },
  {
   "cell_type": "code",
   "execution_count": 252,
   "metadata": {},
   "outputs": [],
   "source": [
    "from sklearn.metrics import accuracy_score, f1_score, precision_score, recall_score, classification_report\n",
    "\n",
    "def get_metrics(y_test, y_predicted):  \n",
    "    # true positives / (true positives+false positives)\n",
    "    precision = precision_score(y_test, y_predicted, pos_label=None,\n",
    "                                    average='weighted')             \n",
    "    # true positives / (true positives + false negatives)\n",
    "    recall = recall_score(y_test, y_predicted, pos_label=None,\n",
    "                              average='weighted')\n",
    "    \n",
    "    # harmonic mean of precision and recall\n",
    "    f1 = f1_score(y_test, y_predicted, pos_label=None, average='weighted')\n",
    "    \n",
    "    # true positives + true negatives/ total\n",
    "    accuracy = accuracy_score(y_test, y_predicted)\n",
    "    return accuracy, precision, recall, f1"
   ]
  },
  {
   "cell_type": "code",
   "execution_count": 253,
   "metadata": {},
   "outputs": [
    {
     "name": "stdout",
     "output_type": "stream",
     "text": [
      "accuracy = 0.641, precision = 0.640, recall = 0.641, f1 = 0.640\n"
     ]
    }
   ],
   "source": [
    "accuracy, precision, recall, f1 = get_metrics(y_test, y_w2v_predicted)\n",
    "print(\"accuracy = %.3f, precision = %.3f, recall = %.3f, f1 = %.3f\" % (accuracy, precision, recall, f1))"
   ]
  },
  {
   "cell_type": "code",
   "execution_count": 254,
   "metadata": {},
   "outputs": [
    {
     "name": "stdout",
     "output_type": "stream",
     "text": [
      "accuracy = 0.672, precision = 0.672, recall = 0.672, f1 = 0.672\n"
     ]
    }
   ],
   "source": [
    "accuracy, precision, recall, f1 = get_metrics(y_test, y_amz_predicted)\n",
    "print(\"accuracy = %.3f, precision = %.3f, recall = %.3f, f1 = %.3f\" % (accuracy, precision, recall, f1))"
   ]
  },
  {
   "cell_type": "code",
   "execution_count": 255,
   "metadata": {},
   "outputs": [
    {
     "name": "stdout",
     "output_type": "stream",
     "text": [
      "accuracy = 0.631, precision = 0.631, recall = 0.631, f1 = 0.631\n"
     ]
    }
   ],
   "source": [
    "accuracy, precision, recall, f1 = get_metrics(y_test, y_glv_predicted)\n",
    "print(\"accuracy = %.3f, precision = %.3f, recall = %.3f, f1 = %.3f\" % (accuracy, precision, recall, f1))"
   ]
  },
  {
   "cell_type": "code",
   "execution_count": 258,
   "metadata": {},
   "outputs": [
    {
     "name": "stdout",
     "output_type": "stream",
     "text": [
      "CPU times: user 52.6 s, sys: 2.85 s, total: 55.4 s\n",
      "Wall time: 59 s\n",
      "CPU times: user 5min 20s, sys: 3.76 s, total: 5min 24s\n",
      "Wall time: 5min 28s\n",
      "CPU times: user 4min 26s, sys: 3.66 s, total: 4min 29s\n",
      "Wall time: 4min 33s\n"
     ]
    }
   ],
   "source": [
    "from sklearn import svm\n",
    "clf = svm.LinearSVC(random_state=40)\n",
    "\n",
    "% time clf.fit(X_w2v_train, y_train)\n",
    "y_w2v_predicted = clf.predict(X_w2v_test)\n",
    "\n",
    "% time clf.fit(X_amz_train, y_train)\n",
    "y_amz_predicted = clf.predict(X_amz_test)\n",
    "\n",
    "% time clf.fit(X_glv_train, y_train)\n",
    "y_glv_predicted = clf.predict(X_glv_test)"
   ]
  },
  {
   "cell_type": "code",
   "execution_count": 253,
   "metadata": {},
   "outputs": [
    {
     "name": "stdout",
     "output_type": "stream",
     "text": [
      "accuracy = 0.641, precision = 0.640, recall = 0.641, f1 = 0.640\n"
     ]
    }
   ],
   "source": [
    "accuracy, precision, recall, f1 = get_metrics(y_test, y_w2v_predicted)\n",
    "print(\"accuracy = %.3f, precision = %.3f, recall = %.3f, f1 = %.3f\" % (accuracy, precision, recall, f1))"
   ]
  },
  {
   "cell_type": "code",
   "execution_count": 254,
   "metadata": {},
   "outputs": [
    {
     "name": "stdout",
     "output_type": "stream",
     "text": [
      "accuracy = 0.672, precision = 0.672, recall = 0.672, f1 = 0.672\n"
     ]
    }
   ],
   "source": [
    "accuracy, precision, recall, f1 = get_metrics(y_test, y_amz_predicted)\n",
    "print(\"accuracy = %.3f, precision = %.3f, recall = %.3f, f1 = %.3f\" % (accuracy, precision, recall, f1))"
   ]
  },
  {
   "cell_type": "code",
   "execution_count": 255,
   "metadata": {},
   "outputs": [
    {
     "name": "stdout",
     "output_type": "stream",
     "text": [
      "accuracy = 0.631, precision = 0.631, recall = 0.631, f1 = 0.631\n"
     ]
    }
   ],
   "source": [
    "accuracy, precision, recall, f1 = get_metrics(y_test, y_glv_predicted)\n",
    "print(\"accuracy = %.3f, precision = %.3f, recall = %.3f, f1 = %.3f\" % (accuracy, precision, recall, f1))"
   ]
  },
  {
   "cell_type": "code",
   "execution_count": null,
   "metadata": {},
   "outputs": [],
   "source": []
  }
 ],
 "metadata": {
  "kernelspec": {
   "display_name": "Python [conda env:nlp_3]",
   "language": "python",
   "name": "conda-env-nlp_3-py"
  },
  "language_info": {
   "codemirror_mode": {
    "name": "ipython",
    "version": 3
   },
   "file_extension": ".py",
   "mimetype": "text/x-python",
   "name": "python",
   "nbconvert_exporter": "python",
   "pygments_lexer": "ipython3",
   "version": "3.6.3"
  }
 },
 "nbformat": 4,
 "nbformat_minor": 2
}
